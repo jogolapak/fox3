{
 "cells": [
  {
   "cell_type": "markdown",
   "metadata": {},
   "source": [
    "## Relational Database\n",
    "Created by: Isman Kurniawan"
   ]
  },
  {
   "cell_type": "markdown",
   "metadata": {},
   "source": [
    "### Create a connection"
   ]
  },
  {
   "cell_type": "code",
   "execution_count": 1,
   "metadata": {},
   "outputs": [],
   "source": [
    "import sqlite3"
   ]
  },
  {
   "cell_type": "code",
   "execution_count": null,
   "metadata": {},
   "outputs": [],
   "source": [
    "# load sqlite3 library\n",
    "import sqlite3\n",
    "\n",
    "# create a connection to database\n",
    "connection = sqlite3.connect('my_database.sqlite')\n",
    "\n",
    "# create an interface to the database \n",
    "# that allows running anySQL query on our database.\n",
    "cursor = connection.cursor()"
   ]
  },
  {
   "cell_type": "markdown",
   "metadata": {},
   "source": [
    "### Creating new table"
   ]
  },
  {
   "cell_type": "code",
   "execution_count": null,
   "metadata": {},
   "outputs": [],
   "source": [
    "# creating a table named 'SCHOOL'\n",
    "cursor.execute('''CREATE TABLE SCHOOL(\n",
    "ID INTEGER PRIMARY KEY AUTOINCREMENT,\n",
    "NAME TEXT NOT NULL,\n",
    "AGE INTEGER NOT NULL,\n",
    "ADDRESS CHAR(50));''')\n",
    "\n",
    "# commit the update\n",
    "connection.commit()"
   ]
  },
  {
   "cell_type": "markdown",
   "metadata": {},
   "source": [
    "### Inserting records"
   ]
  },
  {
   "cell_type": "code",
   "execution_count": null,
   "metadata": {},
   "outputs": [],
   "source": [
    "# inserting record\n",
    "cursor.execute(\"INSERT INTO SCHOOL (NAME, AGE, ADDRESS) \\\n",
    "                VALUES ('Ahmad', 14, 'Jakarta')\")\n",
    "cursor.execute(\"INSERT INTO SCHOOL (NAME, AGE, ADDRESS) \\\n",
    "                VALUES ('Robby', 15, 'Bandung')\")\n",
    "cursor.execute(\"INSERT INTO SCHOOL (NAME, AGE, ADDRESS) \\\n",
    "                VALUES ('Thomas', 13, 'Surabaya')\")\n",
    "cursor.execute(\"INSERT INTO SCHOOL (NAME, AGE, ADDRESS) \\\n",
    "                VALUES ('Laila', 15, 'Makasar')\")\n",
    "\n",
    "connection.commit()"
   ]
  },
  {
   "cell_type": "markdown",
   "metadata": {},
   "source": [
    "### Selecting records"
   ]
  },
  {
   "cell_type": "code",
   "execution_count": null,
   "metadata": {},
   "outputs": [],
   "source": [
    "for row in cursor.execute(\"SELECT ID, NAME, AGE FROM SCHOOL\"):\n",
    "    print(\"ID = \", row[0])\n",
    "    print(\"NAME = \", row[1])\n",
    "    print(\"MARKS = \", row[2], \"\\n\")"
   ]
  },
  {
   "cell_type": "markdown",
   "metadata": {},
   "source": [
    "### Updating records values"
   ]
  },
  {
   "cell_type": "code",
   "execution_count": null,
   "metadata": {},
   "outputs": [],
   "source": [
    "connection.execute(\"UPDATE SCHOOL SET ADDRESS = 'Aceh' WHERE NAME = 'Laila'\")\n",
    "connection.commit()"
   ]
  },
  {
   "cell_type": "markdown",
   "metadata": {},
   "source": [
    "### Deleting records"
   ]
  },
  {
   "cell_type": "code",
   "execution_count": null,
   "metadata": {},
   "outputs": [],
   "source": [
    "connection.execute(\"DELETE FROM SCHOOL WHERE ID = 2\")\n",
    "connection.commit()"
   ]
  }
 ],
 "metadata": {
  "kernelspec": {
   "display_name": "Python 3",
   "language": "python",
   "name": "python3"
  },
  "language_info": {
   "codemirror_mode": {
    "name": "ipython",
    "version": 3
   },
   "file_extension": ".py",
   "mimetype": "text/x-python",
   "name": "python",
   "nbconvert_exporter": "python",
   "pygments_lexer": "ipython3",
   "version": "3.6.9"
  }
 },
 "nbformat": 4,
 "nbformat_minor": 2
}
